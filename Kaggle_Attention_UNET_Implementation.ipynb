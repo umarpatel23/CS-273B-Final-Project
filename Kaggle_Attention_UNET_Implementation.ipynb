{
  "nbformat": 4,
  "nbformat_minor": 0,
  "metadata": {
    "colab": {
      "provenance": []
    },
    "kernelspec": {
      "name": "python3",
      "display_name": "Python 3"
    },
    "language_info": {
      "name": "python"
    },
    "widgets": {
      "application/vnd.jupyter.widget-state+json": {
        "530b075612af4e6db221ce0c2b4e3879": {
          "model_module": "@jupyter-widgets/controls",
          "model_name": "HBoxModel",
          "model_module_version": "1.5.0",
          "state": {
            "_dom_classes": [],
            "_model_module": "@jupyter-widgets/controls",
            "_model_module_version": "1.5.0",
            "_model_name": "HBoxModel",
            "_view_count": null,
            "_view_module": "@jupyter-widgets/controls",
            "_view_module_version": "1.5.0",
            "_view_name": "HBoxView",
            "box_style": "",
            "children": [
              "IPY_MODEL_3926338e9ce9437896dc38168922c925",
              "IPY_MODEL_6881a1b24a2b4841a0fead6df7c799d3",
              "IPY_MODEL_dfffe4c6c1a74ed78da8c86a004b7ec0"
            ],
            "layout": "IPY_MODEL_58c9f55bd2e14fadb820e990474af447"
          }
        },
        "3926338e9ce9437896dc38168922c925": {
          "model_module": "@jupyter-widgets/controls",
          "model_name": "HTMLModel",
          "model_module_version": "1.5.0",
          "state": {
            "_dom_classes": [],
            "_model_module": "@jupyter-widgets/controls",
            "_model_module_version": "1.5.0",
            "_model_name": "HTMLModel",
            "_view_count": null,
            "_view_module": "@jupyter-widgets/controls",
            "_view_module_version": "1.5.0",
            "_view_name": "HTMLView",
            "description": "",
            "description_tooltip": null,
            "layout": "IPY_MODEL_a461394547ec48f1be153e1b53710352",
            "placeholder": "​",
            "style": "IPY_MODEL_2c71d19c537640bc8b4a61038ddd9d03",
            "value": "100%"
          }
        },
        "6881a1b24a2b4841a0fead6df7c799d3": {
          "model_module": "@jupyter-widgets/controls",
          "model_name": "FloatProgressModel",
          "model_module_version": "1.5.0",
          "state": {
            "_dom_classes": [],
            "_model_module": "@jupyter-widgets/controls",
            "_model_module_version": "1.5.0",
            "_model_name": "FloatProgressModel",
            "_view_count": null,
            "_view_module": "@jupyter-widgets/controls",
            "_view_module_version": "1.5.0",
            "_view_name": "ProgressView",
            "bar_style": "success",
            "description": "",
            "description_tooltip": null,
            "layout": "IPY_MODEL_7a5a06875ed04002aad4bbf7c1ff7834",
            "max": 268,
            "min": 0,
            "orientation": "horizontal",
            "style": "IPY_MODEL_25b3b54fc5264e9dbcd6cd467ed10be3",
            "value": 268
          }
        },
        "dfffe4c6c1a74ed78da8c86a004b7ec0": {
          "model_module": "@jupyter-widgets/controls",
          "model_name": "HTMLModel",
          "model_module_version": "1.5.0",
          "state": {
            "_dom_classes": [],
            "_model_module": "@jupyter-widgets/controls",
            "_model_module_version": "1.5.0",
            "_model_name": "HTMLModel",
            "_view_count": null,
            "_view_module": "@jupyter-widgets/controls",
            "_view_module_version": "1.5.0",
            "_view_name": "HTMLView",
            "description": "",
            "description_tooltip": null,
            "layout": "IPY_MODEL_c665fd48a4e1476d9c8522bfcf87c402",
            "placeholder": "​",
            "style": "IPY_MODEL_de16891503c647fbb54423e13e34da4d",
            "value": " 268/268 [00:18&lt;00:00, 15.89it/s]"
          }
        },
        "58c9f55bd2e14fadb820e990474af447": {
          "model_module": "@jupyter-widgets/base",
          "model_name": "LayoutModel",
          "model_module_version": "1.2.0",
          "state": {
            "_model_module": "@jupyter-widgets/base",
            "_model_module_version": "1.2.0",
            "_model_name": "LayoutModel",
            "_view_count": null,
            "_view_module": "@jupyter-widgets/base",
            "_view_module_version": "1.2.0",
            "_view_name": "LayoutView",
            "align_content": null,
            "align_items": null,
            "align_self": null,
            "border": null,
            "bottom": null,
            "display": null,
            "flex": null,
            "flex_flow": null,
            "grid_area": null,
            "grid_auto_columns": null,
            "grid_auto_flow": null,
            "grid_auto_rows": null,
            "grid_column": null,
            "grid_gap": null,
            "grid_row": null,
            "grid_template_areas": null,
            "grid_template_columns": null,
            "grid_template_rows": null,
            "height": null,
            "justify_content": null,
            "justify_items": null,
            "left": null,
            "margin": null,
            "max_height": null,
            "max_width": null,
            "min_height": null,
            "min_width": null,
            "object_fit": null,
            "object_position": null,
            "order": null,
            "overflow": null,
            "overflow_x": null,
            "overflow_y": null,
            "padding": null,
            "right": null,
            "top": null,
            "visibility": null,
            "width": null
          }
        },
        "a461394547ec48f1be153e1b53710352": {
          "model_module": "@jupyter-widgets/base",
          "model_name": "LayoutModel",
          "model_module_version": "1.2.0",
          "state": {
            "_model_module": "@jupyter-widgets/base",
            "_model_module_version": "1.2.0",
            "_model_name": "LayoutModel",
            "_view_count": null,
            "_view_module": "@jupyter-widgets/base",
            "_view_module_version": "1.2.0",
            "_view_name": "LayoutView",
            "align_content": null,
            "align_items": null,
            "align_self": null,
            "border": null,
            "bottom": null,
            "display": null,
            "flex": null,
            "flex_flow": null,
            "grid_area": null,
            "grid_auto_columns": null,
            "grid_auto_flow": null,
            "grid_auto_rows": null,
            "grid_column": null,
            "grid_gap": null,
            "grid_row": null,
            "grid_template_areas": null,
            "grid_template_columns": null,
            "grid_template_rows": null,
            "height": null,
            "justify_content": null,
            "justify_items": null,
            "left": null,
            "margin": null,
            "max_height": null,
            "max_width": null,
            "min_height": null,
            "min_width": null,
            "object_fit": null,
            "object_position": null,
            "order": null,
            "overflow": null,
            "overflow_x": null,
            "overflow_y": null,
            "padding": null,
            "right": null,
            "top": null,
            "visibility": null,
            "width": null
          }
        },
        "2c71d19c537640bc8b4a61038ddd9d03": {
          "model_module": "@jupyter-widgets/controls",
          "model_name": "DescriptionStyleModel",
          "model_module_version": "1.5.0",
          "state": {
            "_model_module": "@jupyter-widgets/controls",
            "_model_module_version": "1.5.0",
            "_model_name": "DescriptionStyleModel",
            "_view_count": null,
            "_view_module": "@jupyter-widgets/base",
            "_view_module_version": "1.2.0",
            "_view_name": "StyleView",
            "description_width": ""
          }
        },
        "7a5a06875ed04002aad4bbf7c1ff7834": {
          "model_module": "@jupyter-widgets/base",
          "model_name": "LayoutModel",
          "model_module_version": "1.2.0",
          "state": {
            "_model_module": "@jupyter-widgets/base",
            "_model_module_version": "1.2.0",
            "_model_name": "LayoutModel",
            "_view_count": null,
            "_view_module": "@jupyter-widgets/base",
            "_view_module_version": "1.2.0",
            "_view_name": "LayoutView",
            "align_content": null,
            "align_items": null,
            "align_self": null,
            "border": null,
            "bottom": null,
            "display": null,
            "flex": null,
            "flex_flow": null,
            "grid_area": null,
            "grid_auto_columns": null,
            "grid_auto_flow": null,
            "grid_auto_rows": null,
            "grid_column": null,
            "grid_gap": null,
            "grid_row": null,
            "grid_template_areas": null,
            "grid_template_columns": null,
            "grid_template_rows": null,
            "height": null,
            "justify_content": null,
            "justify_items": null,
            "left": null,
            "margin": null,
            "max_height": null,
            "max_width": null,
            "min_height": null,
            "min_width": null,
            "object_fit": null,
            "object_position": null,
            "order": null,
            "overflow": null,
            "overflow_x": null,
            "overflow_y": null,
            "padding": null,
            "right": null,
            "top": null,
            "visibility": null,
            "width": null
          }
        },
        "25b3b54fc5264e9dbcd6cd467ed10be3": {
          "model_module": "@jupyter-widgets/controls",
          "model_name": "ProgressStyleModel",
          "model_module_version": "1.5.0",
          "state": {
            "_model_module": "@jupyter-widgets/controls",
            "_model_module_version": "1.5.0",
            "_model_name": "ProgressStyleModel",
            "_view_count": null,
            "_view_module": "@jupyter-widgets/base",
            "_view_module_version": "1.2.0",
            "_view_name": "StyleView",
            "bar_color": null,
            "description_width": ""
          }
        },
        "c665fd48a4e1476d9c8522bfcf87c402": {
          "model_module": "@jupyter-widgets/base",
          "model_name": "LayoutModel",
          "model_module_version": "1.2.0",
          "state": {
            "_model_module": "@jupyter-widgets/base",
            "_model_module_version": "1.2.0",
            "_model_name": "LayoutModel",
            "_view_count": null,
            "_view_module": "@jupyter-widgets/base",
            "_view_module_version": "1.2.0",
            "_view_name": "LayoutView",
            "align_content": null,
            "align_items": null,
            "align_self": null,
            "border": null,
            "bottom": null,
            "display": null,
            "flex": null,
            "flex_flow": null,
            "grid_area": null,
            "grid_auto_columns": null,
            "grid_auto_flow": null,
            "grid_auto_rows": null,
            "grid_column": null,
            "grid_gap": null,
            "grid_row": null,
            "grid_template_areas": null,
            "grid_template_columns": null,
            "grid_template_rows": null,
            "height": null,
            "justify_content": null,
            "justify_items": null,
            "left": null,
            "margin": null,
            "max_height": null,
            "max_width": null,
            "min_height": null,
            "min_width": null,
            "object_fit": null,
            "object_position": null,
            "order": null,
            "overflow": null,
            "overflow_x": null,
            "overflow_y": null,
            "padding": null,
            "right": null,
            "top": null,
            "visibility": null,
            "width": null
          }
        },
        "de16891503c647fbb54423e13e34da4d": {
          "model_module": "@jupyter-widgets/controls",
          "model_name": "DescriptionStyleModel",
          "model_module_version": "1.5.0",
          "state": {
            "_model_module": "@jupyter-widgets/controls",
            "_model_module_version": "1.5.0",
            "_model_name": "DescriptionStyleModel",
            "_view_count": null,
            "_view_module": "@jupyter-widgets/base",
            "_view_module_version": "1.2.0",
            "_view_name": "StyleView",
            "description_width": ""
          }
        },
        "e3b6d862ebc742cfaa68ebb412b9fd22": {
          "model_module": "@jupyter-widgets/controls",
          "model_name": "HBoxModel",
          "model_module_version": "1.5.0",
          "state": {
            "_dom_classes": [],
            "_model_module": "@jupyter-widgets/controls",
            "_model_module_version": "1.5.0",
            "_model_name": "HBoxModel",
            "_view_count": null,
            "_view_module": "@jupyter-widgets/controls",
            "_view_module_version": "1.5.0",
            "_view_name": "HBoxView",
            "box_style": "",
            "children": [
              "IPY_MODEL_a45ea9b2de234969ac6fe1e727e32843",
              "IPY_MODEL_c1573ba080324f6aab661ff58eae01f5",
              "IPY_MODEL_e986203b762140898f5127ea2cb6b358"
            ],
            "layout": "IPY_MODEL_0145034c1a774da48e38dc0832025509"
          }
        },
        "a45ea9b2de234969ac6fe1e727e32843": {
          "model_module": "@jupyter-widgets/controls",
          "model_name": "HTMLModel",
          "model_module_version": "1.5.0",
          "state": {
            "_dom_classes": [],
            "_model_module": "@jupyter-widgets/controls",
            "_model_module_version": "1.5.0",
            "_model_name": "HTMLModel",
            "_view_count": null,
            "_view_module": "@jupyter-widgets/controls",
            "_view_module_version": "1.5.0",
            "_view_name": "HTMLView",
            "description": "",
            "description_tooltip": null,
            "layout": "IPY_MODEL_42bb724d0c7245b99382f54ee4d16d68",
            "placeholder": "​",
            "style": "IPY_MODEL_bb6285d4dc794dd1b9e62425d8b81c37",
            "value": "100%"
          }
        },
        "c1573ba080324f6aab661ff58eae01f5": {
          "model_module": "@jupyter-widgets/controls",
          "model_name": "FloatProgressModel",
          "model_module_version": "1.5.0",
          "state": {
            "_dom_classes": [],
            "_model_module": "@jupyter-widgets/controls",
            "_model_module_version": "1.5.0",
            "_model_name": "FloatProgressModel",
            "_view_count": null,
            "_view_module": "@jupyter-widgets/controls",
            "_view_module_version": "1.5.0",
            "_view_name": "ProgressView",
            "bar_style": "success",
            "description": "",
            "description_tooltip": null,
            "layout": "IPY_MODEL_2c5bafe4181f4608a4bcebe57ba6bc26",
            "max": 268,
            "min": 0,
            "orientation": "horizontal",
            "style": "IPY_MODEL_44189670e3a04ad8af8fa14847808af5",
            "value": 268
          }
        },
        "e986203b762140898f5127ea2cb6b358": {
          "model_module": "@jupyter-widgets/controls",
          "model_name": "HTMLModel",
          "model_module_version": "1.5.0",
          "state": {
            "_dom_classes": [],
            "_model_module": "@jupyter-widgets/controls",
            "_model_module_version": "1.5.0",
            "_model_name": "HTMLModel",
            "_view_count": null,
            "_view_module": "@jupyter-widgets/controls",
            "_view_module_version": "1.5.0",
            "_view_name": "HTMLView",
            "description": "",
            "description_tooltip": null,
            "layout": "IPY_MODEL_61f2f529195142a1aa779545dc71244d",
            "placeholder": "​",
            "style": "IPY_MODEL_5fb400ab8bf34de8ba90a199f61f3e06",
            "value": " 268/268 [00:17&lt;00:00, 17.06it/s]"
          }
        },
        "0145034c1a774da48e38dc0832025509": {
          "model_module": "@jupyter-widgets/base",
          "model_name": "LayoutModel",
          "model_module_version": "1.2.0",
          "state": {
            "_model_module": "@jupyter-widgets/base",
            "_model_module_version": "1.2.0",
            "_model_name": "LayoutModel",
            "_view_count": null,
            "_view_module": "@jupyter-widgets/base",
            "_view_module_version": "1.2.0",
            "_view_name": "LayoutView",
            "align_content": null,
            "align_items": null,
            "align_self": null,
            "border": null,
            "bottom": null,
            "display": null,
            "flex": null,
            "flex_flow": null,
            "grid_area": null,
            "grid_auto_columns": null,
            "grid_auto_flow": null,
            "grid_auto_rows": null,
            "grid_column": null,
            "grid_gap": null,
            "grid_row": null,
            "grid_template_areas": null,
            "grid_template_columns": null,
            "grid_template_rows": null,
            "height": null,
            "justify_content": null,
            "justify_items": null,
            "left": null,
            "margin": null,
            "max_height": null,
            "max_width": null,
            "min_height": null,
            "min_width": null,
            "object_fit": null,
            "object_position": null,
            "order": null,
            "overflow": null,
            "overflow_x": null,
            "overflow_y": null,
            "padding": null,
            "right": null,
            "top": null,
            "visibility": null,
            "width": null
          }
        },
        "42bb724d0c7245b99382f54ee4d16d68": {
          "model_module": "@jupyter-widgets/base",
          "model_name": "LayoutModel",
          "model_module_version": "1.2.0",
          "state": {
            "_model_module": "@jupyter-widgets/base",
            "_model_module_version": "1.2.0",
            "_model_name": "LayoutModel",
            "_view_count": null,
            "_view_module": "@jupyter-widgets/base",
            "_view_module_version": "1.2.0",
            "_view_name": "LayoutView",
            "align_content": null,
            "align_items": null,
            "align_self": null,
            "border": null,
            "bottom": null,
            "display": null,
            "flex": null,
            "flex_flow": null,
            "grid_area": null,
            "grid_auto_columns": null,
            "grid_auto_flow": null,
            "grid_auto_rows": null,
            "grid_column": null,
            "grid_gap": null,
            "grid_row": null,
            "grid_template_areas": null,
            "grid_template_columns": null,
            "grid_template_rows": null,
            "height": null,
            "justify_content": null,
            "justify_items": null,
            "left": null,
            "margin": null,
            "max_height": null,
            "max_width": null,
            "min_height": null,
            "min_width": null,
            "object_fit": null,
            "object_position": null,
            "order": null,
            "overflow": null,
            "overflow_x": null,
            "overflow_y": null,
            "padding": null,
            "right": null,
            "top": null,
            "visibility": null,
            "width": null
          }
        },
        "bb6285d4dc794dd1b9e62425d8b81c37": {
          "model_module": "@jupyter-widgets/controls",
          "model_name": "DescriptionStyleModel",
          "model_module_version": "1.5.0",
          "state": {
            "_model_module": "@jupyter-widgets/controls",
            "_model_module_version": "1.5.0",
            "_model_name": "DescriptionStyleModel",
            "_view_count": null,
            "_view_module": "@jupyter-widgets/base",
            "_view_module_version": "1.2.0",
            "_view_name": "StyleView",
            "description_width": ""
          }
        },
        "2c5bafe4181f4608a4bcebe57ba6bc26": {
          "model_module": "@jupyter-widgets/base",
          "model_name": "LayoutModel",
          "model_module_version": "1.2.0",
          "state": {
            "_model_module": "@jupyter-widgets/base",
            "_model_module_version": "1.2.0",
            "_model_name": "LayoutModel",
            "_view_count": null,
            "_view_module": "@jupyter-widgets/base",
            "_view_module_version": "1.2.0",
            "_view_name": "LayoutView",
            "align_content": null,
            "align_items": null,
            "align_self": null,
            "border": null,
            "bottom": null,
            "display": null,
            "flex": null,
            "flex_flow": null,
            "grid_area": null,
            "grid_auto_columns": null,
            "grid_auto_flow": null,
            "grid_auto_rows": null,
            "grid_column": null,
            "grid_gap": null,
            "grid_row": null,
            "grid_template_areas": null,
            "grid_template_columns": null,
            "grid_template_rows": null,
            "height": null,
            "justify_content": null,
            "justify_items": null,
            "left": null,
            "margin": null,
            "max_height": null,
            "max_width": null,
            "min_height": null,
            "min_width": null,
            "object_fit": null,
            "object_position": null,
            "order": null,
            "overflow": null,
            "overflow_x": null,
            "overflow_y": null,
            "padding": null,
            "right": null,
            "top": null,
            "visibility": null,
            "width": null
          }
        },
        "44189670e3a04ad8af8fa14847808af5": {
          "model_module": "@jupyter-widgets/controls",
          "model_name": "ProgressStyleModel",
          "model_module_version": "1.5.0",
          "state": {
            "_model_module": "@jupyter-widgets/controls",
            "_model_module_version": "1.5.0",
            "_model_name": "ProgressStyleModel",
            "_view_count": null,
            "_view_module": "@jupyter-widgets/base",
            "_view_module_version": "1.2.0",
            "_view_name": "StyleView",
            "bar_color": null,
            "description_width": ""
          }
        },
        "61f2f529195142a1aa779545dc71244d": {
          "model_module": "@jupyter-widgets/base",
          "model_name": "LayoutModel",
          "model_module_version": "1.2.0",
          "state": {
            "_model_module": "@jupyter-widgets/base",
            "_model_module_version": "1.2.0",
            "_model_name": "LayoutModel",
            "_view_count": null,
            "_view_module": "@jupyter-widgets/base",
            "_view_module_version": "1.2.0",
            "_view_name": "LayoutView",
            "align_content": null,
            "align_items": null,
            "align_self": null,
            "border": null,
            "bottom": null,
            "display": null,
            "flex": null,
            "flex_flow": null,
            "grid_area": null,
            "grid_auto_columns": null,
            "grid_auto_flow": null,
            "grid_auto_rows": null,
            "grid_column": null,
            "grid_gap": null,
            "grid_row": null,
            "grid_template_areas": null,
            "grid_template_columns": null,
            "grid_template_rows": null,
            "height": null,
            "justify_content": null,
            "justify_items": null,
            "left": null,
            "margin": null,
            "max_height": null,
            "max_width": null,
            "min_height": null,
            "min_width": null,
            "object_fit": null,
            "object_position": null,
            "order": null,
            "overflow": null,
            "overflow_x": null,
            "overflow_y": null,
            "padding": null,
            "right": null,
            "top": null,
            "visibility": null,
            "width": null
          }
        },
        "5fb400ab8bf34de8ba90a199f61f3e06": {
          "model_module": "@jupyter-widgets/controls",
          "model_name": "DescriptionStyleModel",
          "model_module_version": "1.5.0",
          "state": {
            "_model_module": "@jupyter-widgets/controls",
            "_model_module_version": "1.5.0",
            "_model_name": "DescriptionStyleModel",
            "_view_count": null,
            "_view_module": "@jupyter-widgets/base",
            "_view_module_version": "1.2.0",
            "_view_name": "StyleView",
            "description_width": ""
          }
        },
        "25836bee03ed40c5af1c910cf5081412": {
          "model_module": "@jupyter-widgets/controls",
          "model_name": "HBoxModel",
          "model_module_version": "1.5.0",
          "state": {
            "_dom_classes": [],
            "_model_module": "@jupyter-widgets/controls",
            "_model_module_version": "1.5.0",
            "_model_name": "HBoxModel",
            "_view_count": null,
            "_view_module": "@jupyter-widgets/controls",
            "_view_module_version": "1.5.0",
            "_view_name": "HBoxView",
            "box_style": "",
            "children": [
              "IPY_MODEL_54dfd2fdbe384817b4f3863ff6e74e9c",
              "IPY_MODEL_1195da5232da4d949b9c6acdc83133bb",
              "IPY_MODEL_ceb0ad0fdbf64056be5824cb5a898dae"
            ],
            "layout": "IPY_MODEL_f3465aa79ba3451d8ee6028ad316e041"
          }
        },
        "54dfd2fdbe384817b4f3863ff6e74e9c": {
          "model_module": "@jupyter-widgets/controls",
          "model_name": "HTMLModel",
          "model_module_version": "1.5.0",
          "state": {
            "_dom_classes": [],
            "_model_module": "@jupyter-widgets/controls",
            "_model_module_version": "1.5.0",
            "_model_name": "HTMLModel",
            "_view_count": null,
            "_view_module": "@jupyter-widgets/controls",
            "_view_module_version": "1.5.0",
            "_view_name": "HTMLView",
            "description": "",
            "description_tooltip": null,
            "layout": "IPY_MODEL_a011be481ba24e7f8343ddb33a6ab3b6",
            "placeholder": "​",
            "style": "IPY_MODEL_23fddfcecd7841ab93fe3d68ddc4af6c",
            "value": " 16%"
          }
        },
        "1195da5232da4d949b9c6acdc83133bb": {
          "model_module": "@jupyter-widgets/controls",
          "model_name": "FloatProgressModel",
          "model_module_version": "1.5.0",
          "state": {
            "_dom_classes": [],
            "_model_module": "@jupyter-widgets/controls",
            "_model_module_version": "1.5.0",
            "_model_name": "FloatProgressModel",
            "_view_count": null,
            "_view_module": "@jupyter-widgets/controls",
            "_view_module_version": "1.5.0",
            "_view_name": "ProgressView",
            "bar_style": "danger",
            "description": "",
            "description_tooltip": null,
            "layout": "IPY_MODEL_5d1e4cbb9e6b4fd6abda503e49a7e08d",
            "max": 268,
            "min": 0,
            "orientation": "horizontal",
            "style": "IPY_MODEL_ce4f31b94677476e8981871f008c1428",
            "value": 44
          }
        },
        "ceb0ad0fdbf64056be5824cb5a898dae": {
          "model_module": "@jupyter-widgets/controls",
          "model_name": "HTMLModel",
          "model_module_version": "1.5.0",
          "state": {
            "_dom_classes": [],
            "_model_module": "@jupyter-widgets/controls",
            "_model_module_version": "1.5.0",
            "_model_name": "HTMLModel",
            "_view_count": null,
            "_view_module": "@jupyter-widgets/controls",
            "_view_module_version": "1.5.0",
            "_view_name": "HTMLView",
            "description": "",
            "description_tooltip": null,
            "layout": "IPY_MODEL_e48deb8581a74f37ad5e8d6f35d45fb1",
            "placeholder": "​",
            "style": "IPY_MODEL_dadfdeefb7004228b3e490388e2443e5",
            "value": " 44/268 [00:03&lt;00:15, 14.71it/s]"
          }
        },
        "f3465aa79ba3451d8ee6028ad316e041": {
          "model_module": "@jupyter-widgets/base",
          "model_name": "LayoutModel",
          "model_module_version": "1.2.0",
          "state": {
            "_model_module": "@jupyter-widgets/base",
            "_model_module_version": "1.2.0",
            "_model_name": "LayoutModel",
            "_view_count": null,
            "_view_module": "@jupyter-widgets/base",
            "_view_module_version": "1.2.0",
            "_view_name": "LayoutView",
            "align_content": null,
            "align_items": null,
            "align_self": null,
            "border": null,
            "bottom": null,
            "display": null,
            "flex": null,
            "flex_flow": null,
            "grid_area": null,
            "grid_auto_columns": null,
            "grid_auto_flow": null,
            "grid_auto_rows": null,
            "grid_column": null,
            "grid_gap": null,
            "grid_row": null,
            "grid_template_areas": null,
            "grid_template_columns": null,
            "grid_template_rows": null,
            "height": null,
            "justify_content": null,
            "justify_items": null,
            "left": null,
            "margin": null,
            "max_height": null,
            "max_width": null,
            "min_height": null,
            "min_width": null,
            "object_fit": null,
            "object_position": null,
            "order": null,
            "overflow": null,
            "overflow_x": null,
            "overflow_y": null,
            "padding": null,
            "right": null,
            "top": null,
            "visibility": null,
            "width": null
          }
        },
        "a011be481ba24e7f8343ddb33a6ab3b6": {
          "model_module": "@jupyter-widgets/base",
          "model_name": "LayoutModel",
          "model_module_version": "1.2.0",
          "state": {
            "_model_module": "@jupyter-widgets/base",
            "_model_module_version": "1.2.0",
            "_model_name": "LayoutModel",
            "_view_count": null,
            "_view_module": "@jupyter-widgets/base",
            "_view_module_version": "1.2.0",
            "_view_name": "LayoutView",
            "align_content": null,
            "align_items": null,
            "align_self": null,
            "border": null,
            "bottom": null,
            "display": null,
            "flex": null,
            "flex_flow": null,
            "grid_area": null,
            "grid_auto_columns": null,
            "grid_auto_flow": null,
            "grid_auto_rows": null,
            "grid_column": null,
            "grid_gap": null,
            "grid_row": null,
            "grid_template_areas": null,
            "grid_template_columns": null,
            "grid_template_rows": null,
            "height": null,
            "justify_content": null,
            "justify_items": null,
            "left": null,
            "margin": null,
            "max_height": null,
            "max_width": null,
            "min_height": null,
            "min_width": null,
            "object_fit": null,
            "object_position": null,
            "order": null,
            "overflow": null,
            "overflow_x": null,
            "overflow_y": null,
            "padding": null,
            "right": null,
            "top": null,
            "visibility": null,
            "width": null
          }
        },
        "23fddfcecd7841ab93fe3d68ddc4af6c": {
          "model_module": "@jupyter-widgets/controls",
          "model_name": "DescriptionStyleModel",
          "model_module_version": "1.5.0",
          "state": {
            "_model_module": "@jupyter-widgets/controls",
            "_model_module_version": "1.5.0",
            "_model_name": "DescriptionStyleModel",
            "_view_count": null,
            "_view_module": "@jupyter-widgets/base",
            "_view_module_version": "1.2.0",
            "_view_name": "StyleView",
            "description_width": ""
          }
        },
        "5d1e4cbb9e6b4fd6abda503e49a7e08d": {
          "model_module": "@jupyter-widgets/base",
          "model_name": "LayoutModel",
          "model_module_version": "1.2.0",
          "state": {
            "_model_module": "@jupyter-widgets/base",
            "_model_module_version": "1.2.0",
            "_model_name": "LayoutModel",
            "_view_count": null,
            "_view_module": "@jupyter-widgets/base",
            "_view_module_version": "1.2.0",
            "_view_name": "LayoutView",
            "align_content": null,
            "align_items": null,
            "align_self": null,
            "border": null,
            "bottom": null,
            "display": null,
            "flex": null,
            "flex_flow": null,
            "grid_area": null,
            "grid_auto_columns": null,
            "grid_auto_flow": null,
            "grid_auto_rows": null,
            "grid_column": null,
            "grid_gap": null,
            "grid_row": null,
            "grid_template_areas": null,
            "grid_template_columns": null,
            "grid_template_rows": null,
            "height": null,
            "justify_content": null,
            "justify_items": null,
            "left": null,
            "margin": null,
            "max_height": null,
            "max_width": null,
            "min_height": null,
            "min_width": null,
            "object_fit": null,
            "object_position": null,
            "order": null,
            "overflow": null,
            "overflow_x": null,
            "overflow_y": null,
            "padding": null,
            "right": null,
            "top": null,
            "visibility": null,
            "width": null
          }
        },
        "ce4f31b94677476e8981871f008c1428": {
          "model_module": "@jupyter-widgets/controls",
          "model_name": "ProgressStyleModel",
          "model_module_version": "1.5.0",
          "state": {
            "_model_module": "@jupyter-widgets/controls",
            "_model_module_version": "1.5.0",
            "_model_name": "ProgressStyleModel",
            "_view_count": null,
            "_view_module": "@jupyter-widgets/base",
            "_view_module_version": "1.2.0",
            "_view_name": "StyleView",
            "bar_color": null,
            "description_width": ""
          }
        },
        "e48deb8581a74f37ad5e8d6f35d45fb1": {
          "model_module": "@jupyter-widgets/base",
          "model_name": "LayoutModel",
          "model_module_version": "1.2.0",
          "state": {
            "_model_module": "@jupyter-widgets/base",
            "_model_module_version": "1.2.0",
            "_model_name": "LayoutModel",
            "_view_count": null,
            "_view_module": "@jupyter-widgets/base",
            "_view_module_version": "1.2.0",
            "_view_name": "LayoutView",
            "align_content": null,
            "align_items": null,
            "align_self": null,
            "border": null,
            "bottom": null,
            "display": null,
            "flex": null,
            "flex_flow": null,
            "grid_area": null,
            "grid_auto_columns": null,
            "grid_auto_flow": null,
            "grid_auto_rows": null,
            "grid_column": null,
            "grid_gap": null,
            "grid_row": null,
            "grid_template_areas": null,
            "grid_template_columns": null,
            "grid_template_rows": null,
            "height": null,
            "justify_content": null,
            "justify_items": null,
            "left": null,
            "margin": null,
            "max_height": null,
            "max_width": null,
            "min_height": null,
            "min_width": null,
            "object_fit": null,
            "object_position": null,
            "order": null,
            "overflow": null,
            "overflow_x": null,
            "overflow_y": null,
            "padding": null,
            "right": null,
            "top": null,
            "visibility": null,
            "width": null
          }
        },
        "dadfdeefb7004228b3e490388e2443e5": {
          "model_module": "@jupyter-widgets/controls",
          "model_name": "DescriptionStyleModel",
          "model_module_version": "1.5.0",
          "state": {
            "_model_module": "@jupyter-widgets/controls",
            "_model_module_version": "1.5.0",
            "_model_name": "DescriptionStyleModel",
            "_view_count": null,
            "_view_module": "@jupyter-widgets/base",
            "_view_module_version": "1.2.0",
            "_view_name": "StyleView",
            "description_width": ""
          }
        }
      }
    }
  },
  "cells": [
    {
      "cell_type": "code",
      "source": [
        "%cd drive/MyDrive/CS273B Final Project"
      ],
      "metadata": {
        "colab": {
          "base_uri": "https://localhost:8080/"
        },
        "id": "QYGK-LbnKhk6",
        "outputId": "9ce623ad-08e9-4048-9883-49ef52e4a00b"
      },
      "execution_count": 4,
      "outputs": [
        {
          "output_type": "stream",
          "name": "stdout",
          "text": [
            "/content/drive/MyDrive/CS273B Final Project\n"
          ]
        }
      ]
    },
    {
      "cell_type": "code",
      "source": [
        "from google.colab import drive\n",
        "drive.mount('/content/drive')"
      ],
      "metadata": {
        "colab": {
          "base_uri": "https://localhost:8080/"
        },
        "id": "s4oGbSZ5m-tK",
        "outputId": "65e770c9-c9ae-4310-9434-1f13a6a43a76"
      },
      "execution_count": 2,
      "outputs": [
        {
          "output_type": "stream",
          "name": "stdout",
          "text": [
            "Mounted at /content/drive\n"
          ]
        }
      ]
    },
    {
      "cell_type": "code",
      "source": [
        "!ls"
      ],
      "metadata": {
        "colab": {
          "base_uri": "https://localhost:8080/"
        },
        "id": "RAxpSzF8nJr5",
        "outputId": "23e4fae3-2fe0-4bfb-f664-9464beec2051"
      },
      "execution_count": 5,
      "outputs": [
        {
          "output_type": "stream",
          "name": "stdout",
          "text": [
            "'Attention U-Net Version 2.ipynb'\n",
            " dataset\n",
            " dataset-20240603T151808Z-001.zip\n",
            "'dataset U-NET'\n",
            " Kaggle_Attention_UNET_Implementation.ipynb\n",
            " stage1_solution_combined_masks-20240603T144926Z-001.zip\n",
            " stage1_test_data-20240603T145431Z-001.zip\n",
            " U-NET_Implementation_Version_2.h5\n",
            "'U-Net-Implementation Version 2.ipynb'\n"
          ]
        }
      ]
    },
    {
      "cell_type": "markdown",
      "source": [
        "Unzip dataset files"
      ],
      "metadata": {
        "id": "yYwaDhU2nOVJ"
      }
    },
    {
      "cell_type": "code",
      "source": [
        "import zipfile\n",
        "import os\n",
        "\n",
        "# Path to your ZIP file\n",
        "zip_file_path = 'dataset-20240603T151808Z-001.zip'\n",
        "\n",
        "# Get the current working directory\n",
        "current_directory = os.getcwd()\n",
        "\n",
        "# Extracting the ZIP file in the current working directory\n",
        "with zipfile.ZipFile(zip_file_path, 'r') as zip_ref:\n",
        "    zip_ref.extractall(current_directory)"
      ],
      "metadata": {
        "id": "Q6c51_mZnWgA"
      },
      "execution_count": null,
      "outputs": []
    },
    {
      "cell_type": "code",
      "execution_count": 6,
      "metadata": {
        "id": "okEshqZ44OtX"
      },
      "outputs": [],
      "source": [
        "import numpy as np\n",
        "import pandas as pd\n",
        "\n",
        "import os\n",
        "import cv2\n",
        "import matplotlib.pyplot as plt\n",
        "import seaborn as sns\n",
        "from mpl_toolkits.axes_grid1.inset_locator import inset_axes\n",
        "from tqdm.notebook import tqdm\n",
        "import time\n",
        "import random\n",
        "\n",
        "plt.style.use(\"dark_background\")"
      ]
    },
    {
      "cell_type": "code",
      "source": [
        "import torch\n",
        "import torch.nn as nn\n",
        "import torch.nn.functional as F\n",
        "from torch.utils.data import Dataset, DataLoader\n",
        "\n",
        "import albumentations as A\n",
        "from albumentations.pytorch import ToTensorV2\n",
        "\n",
        "from sklearn.model_selection import train_test_split"
      ],
      "metadata": {
        "id": "qg1Pn_LzAvfF"
      },
      "execution_count": 8,
      "outputs": []
    },
    {
      "cell_type": "code",
      "source": [
        "BASE_PATH = \"\""
      ],
      "metadata": {
        "id": "MP7DyfC3KWIS"
      },
      "execution_count": null,
      "outputs": []
    },
    {
      "cell_type": "code",
      "source": [
        "\n",
        "# IMG_SIZE = 512\n"
      ],
      "metadata": {
        "id": "V0CI4A-vKVMn"
      },
      "execution_count": null,
      "outputs": []
    },
    {
      "cell_type": "markdown",
      "source": [
        "Preparing Data"
      ],
      "metadata": {
        "id": "UdUy2e1kLTPG"
      }
    },
    {
      "cell_type": "code",
      "source": [
        "train_image_dir = \"dataset/non-aug/train/images/\"\n",
        "validation_image_dir = \"dataset/non-aug/valid/images/\"\n",
        "test_image_dir = \"dataset/non-aug/test/images/\"\n",
        "\n",
        "train_mask_dir = \"dataset/non-aug/train/masks/\"\n",
        "validation_mask_dir = \"dataset/non-aug/valid/masks/\"\n",
        "test_mask_dir = \"dataset/non-aug/test/masks/\""
      ],
      "metadata": {
        "id": "C6LO4hBNvD-I"
      },
      "execution_count": 9,
      "outputs": []
    },
    {
      "cell_type": "code",
      "source": [
        "train_image_paths = os.listdir(train_image_dir)\n",
        "for i in range(len(train_image_paths)):\n",
        "  train_image_paths[i] = train_image_dir + train_image_paths[i]\n",
        "\n",
        "train_mask_paths = os.listdir(train_mask_dir)\n",
        "for i in range(len(train_mask_paths)):\n",
        "  train_mask_paths[i] = train_mask_dir + train_mask_paths[i]\n",
        "\n",
        "validation_image_paths = os.listdir(validation_image_dir)\n",
        "for i in range(len(validation_image_paths)):\n",
        "  validation_image_paths[i] = validation_image_dir + validation_image_paths[i]\n",
        "\n",
        "validation_mask_paths = os.listdir(validation_mask_dir)\n",
        "for i in range(len(validation_mask_paths)):\n",
        "  validation_mask_paths[i] = validation_mask_dir + validation_mask_paths[i]\n",
        "\n",
        "test_image_paths = os.listdir(test_image_dir)\n",
        "for i in range(len(test_image_paths)):\n",
        "  test_image_paths[i] = test_image_dir + test_image_paths[i]\n",
        "\n",
        "test_mask_paths = os.listdir(test_mask_dir)\n",
        "for i in range(len(test_mask_paths)):\n",
        "  test_mask_paths[i] = test_mask_dir + test_mask_paths[i]"
      ],
      "metadata": {
        "id": "-sz5vU1SvHhY"
      },
      "execution_count": 10,
      "outputs": []
    },
    {
      "cell_type": "code",
      "source": [
        "sorted_train_image_paths = train_image_paths.copy()\n",
        "sorted_train_mask_paths = train_mask_paths.copy()\n",
        "sorted_train_image_paths.sort()\n",
        "sorted_train_mask_paths.sort()\n",
        "\n",
        "sorted_val_image_paths = validation_image_paths.copy()\n",
        "sorted_val_mask_paths = validation_mask_paths.copy()\n",
        "sorted_val_image_paths.sort()\n",
        "sorted_val_mask_paths.sort()\n",
        "\n",
        "sorted_test_image_paths = test_image_paths.copy()\n",
        "sorted_test_mask_paths = test_mask_paths.copy()\n",
        "sorted_test_image_paths.sort()\n",
        "sorted_test_mask_paths.sort()"
      ],
      "metadata": {
        "id": "Hzmu4Fo9ZuWb"
      },
      "execution_count": 11,
      "outputs": []
    },
    {
      "cell_type": "code",
      "source": [
        "print(sorted_train_image_paths[0:10])\n",
        "print(sorted_train_mask_paths[0:10])"
      ],
      "metadata": {
        "colab": {
          "base_uri": "https://localhost:8080/"
        },
        "id": "7P4-qicUc4lX",
        "outputId": "f562c37b-3c57-4cfd-ce42-0ad1b0ff204f"
      },
      "execution_count": 12,
      "outputs": [
        {
          "output_type": "stream",
          "name": "stdout",
          "text": [
            "['dataset/non-aug/train/images/00071198d059ba7f5914a526d124d28e6d010c92466da21d4a04cd5413362552.png', 'dataset/non-aug/train/images/003cee89357d9fe13516167fd67b609a164651b21934585648c740d2c3d86dc1.png', 'dataset/non-aug/train/images/0121d6759c5adb290c8e828fc882f37dfaf3663ec885c663859948c154a443ed.png', 'dataset/non-aug/train/images/01d44a26f6680c42ba94c9bc6339228579a95d0e2695b149b7cc0c9592b21baf.png', 'dataset/non-aug/train/images/0280fa8f60f6bcae0f97d93c28f60be194f9309ff610dc5845e60455b0f87c21.png', 'dataset/non-aug/train/images/02903040e19ddf92f452907644ad3822918f54af41dd85e5a3fe3e1b6d6f9339.png', 'dataset/non-aug/train/images/03398329ced0c23b9ac3fac84dd53a87d9ffe4d9d10f1b5fe8df8fac12380776.png', 'dataset/non-aug/train/images/03b9306f44e9b8951461623dcbd615550cdcf36ea93b203f2c8fa58ed1dffcbe.png', 'dataset/non-aug/train/images/0402a81e75262469925ea893b6706183832e85324f7b1e08e634129f5d522cdd.png', 'dataset/non-aug/train/images/04acab7636c4cf61d288a5962f15fa456b7bde31a021e5deedfbf51288e4001e.png']\n",
            "['dataset/non-aug/train/masks/00071198d059ba7f5914a526d124d28e6d010c92466da21d4a04cd5413362552_combined_mask.png', 'dataset/non-aug/train/masks/003cee89357d9fe13516167fd67b609a164651b21934585648c740d2c3d86dc1_combined_mask.png', 'dataset/non-aug/train/masks/0121d6759c5adb290c8e828fc882f37dfaf3663ec885c663859948c154a443ed_combined_mask.png', 'dataset/non-aug/train/masks/01d44a26f6680c42ba94c9bc6339228579a95d0e2695b149b7cc0c9592b21baf_combined_mask.png', 'dataset/non-aug/train/masks/0280fa8f60f6bcae0f97d93c28f60be194f9309ff610dc5845e60455b0f87c21_combined_mask.png', 'dataset/non-aug/train/masks/02903040e19ddf92f452907644ad3822918f54af41dd85e5a3fe3e1b6d6f9339_combined_mask.png', 'dataset/non-aug/train/masks/03398329ced0c23b9ac3fac84dd53a87d9ffe4d9d10f1b5fe8df8fac12380776_combined_mask.png', 'dataset/non-aug/train/masks/03b9306f44e9b8951461623dcbd615550cdcf36ea93b203f2c8fa58ed1dffcbe_combined_mask.png', 'dataset/non-aug/train/masks/0402a81e75262469925ea893b6706183832e85324f7b1e08e634129f5d522cdd_combined_mask.png', 'dataset/non-aug/train/masks/04acab7636c4cf61d288a5962f15fa456b7bde31a021e5deedfbf51288e4001e_combined_mask.png']\n"
          ]
        }
      ]
    },
    {
      "cell_type": "code",
      "source": [
        "from torch.utils.data import Dataset, DataLoader\n",
        "import torchvision.transforms as transforms\n",
        "from PIL import Image\n",
        "\n",
        "class SegmentationDataset(Dataset):\n",
        "    def __init__(self, image_paths, mask_paths, transform=None):\n",
        "        self.image_paths = image_paths\n",
        "        self.mask_paths = mask_paths\n",
        "        self.transform = transform\n",
        "\n",
        "    def __len__(self):\n",
        "        return len(self.image_paths)\n",
        "\n",
        "    def __getitem__(self, index):\n",
        "        # Load the image and mask\n",
        "        image = Image.open(self.image_paths[index]).convert('RGB')\n",
        "        mask = Image.open(self.mask_paths[index]).convert('L')  # Assuming mask is single channel\n",
        "\n",
        "        # Apply the transformation\n",
        "        if self.transform:\n",
        "            # Transform data using named arguments\n",
        "            augmented = self.transform(image=np.array(image), mask=np.array(mask))\n",
        "            image = augmented['image']\n",
        "            mask = augmented['mask']\n",
        "\n",
        "        return image, mask\n"
      ],
      "metadata": {
        "id": "6xXUDC-DilUJ"
      },
      "execution_count": 34,
      "outputs": []
    },
    {
      "cell_type": "code",
      "source": [
        "!pip install albumentations==0.4.6\n"
      ],
      "metadata": {
        "colab": {
          "base_uri": "https://localhost:8080/",
          "height": 759
        },
        "id": "ZvayCflDAmHI",
        "outputId": "4c5bcefc-521b-4ad4-8560-abfe02d2da87"
      },
      "execution_count": 14,
      "outputs": [
        {
          "output_type": "stream",
          "name": "stdout",
          "text": [
            "Collecting albumentations==0.4.6\n",
            "  Downloading albumentations-0.4.6.tar.gz (117 kB)\n",
            "\u001b[?25l     \u001b[90m━━━━━━━━━━━━━━━━━━━━━━━━━━━━━━━━━━━━━━━━\u001b[0m \u001b[32m0.0/117.2 kB\u001b[0m \u001b[31m?\u001b[0m eta \u001b[36m-:--:--\u001b[0m\r\u001b[2K     \u001b[91m━━━━━━━━━━━━━━━━━━━━━━━━━━━━━━━━━━━━━━\u001b[0m\u001b[90m╺\u001b[0m\u001b[90m━\u001b[0m \u001b[32m112.6/117.2 kB\u001b[0m \u001b[31m3.9 MB/s\u001b[0m eta \u001b[36m0:00:01\u001b[0m\r\u001b[2K     \u001b[90m━━━━━━━━━━━━━━━━━━━━━━━━━━━━━━━━━━━━━━━━\u001b[0m \u001b[32m117.2/117.2 kB\u001b[0m \u001b[31m2.9 MB/s\u001b[0m eta \u001b[36m0:00:00\u001b[0m\n",
            "\u001b[?25h  Preparing metadata (setup.py) ... \u001b[?25l\u001b[?25hdone\n",
            "Requirement already satisfied: numpy>=1.11.1 in /usr/local/lib/python3.10/dist-packages (from albumentations==0.4.6) (1.25.2)\n",
            "Requirement already satisfied: scipy in /usr/local/lib/python3.10/dist-packages (from albumentations==0.4.6) (1.11.4)\n",
            "Requirement already satisfied: imgaug>=0.4.0 in /usr/local/lib/python3.10/dist-packages (from albumentations==0.4.6) (0.4.0)\n",
            "Requirement already satisfied: PyYAML in /usr/local/lib/python3.10/dist-packages (from albumentations==0.4.6) (6.0.1)\n",
            "Requirement already satisfied: opencv-python>=4.1.1 in /usr/local/lib/python3.10/dist-packages (from albumentations==0.4.6) (4.8.0.76)\n",
            "Requirement already satisfied: six in /usr/local/lib/python3.10/dist-packages (from imgaug>=0.4.0->albumentations==0.4.6) (1.16.0)\n",
            "Requirement already satisfied: Pillow in /usr/local/lib/python3.10/dist-packages (from imgaug>=0.4.0->albumentations==0.4.6) (9.4.0)\n",
            "Requirement already satisfied: matplotlib in /usr/local/lib/python3.10/dist-packages (from imgaug>=0.4.0->albumentations==0.4.6) (3.7.1)\n",
            "Requirement already satisfied: scikit-image>=0.14.2 in /usr/local/lib/python3.10/dist-packages (from imgaug>=0.4.0->albumentations==0.4.6) (0.19.3)\n",
            "Requirement already satisfied: imageio in /usr/local/lib/python3.10/dist-packages (from imgaug>=0.4.0->albumentations==0.4.6) (2.31.6)\n",
            "Requirement already satisfied: Shapely in /usr/local/lib/python3.10/dist-packages (from imgaug>=0.4.0->albumentations==0.4.6) (2.0.4)\n",
            "Requirement already satisfied: networkx>=2.2 in /usr/local/lib/python3.10/dist-packages (from scikit-image>=0.14.2->imgaug>=0.4.0->albumentations==0.4.6) (3.3)\n",
            "Requirement already satisfied: tifffile>=2019.7.26 in /usr/local/lib/python3.10/dist-packages (from scikit-image>=0.14.2->imgaug>=0.4.0->albumentations==0.4.6) (2024.5.22)\n",
            "Requirement already satisfied: PyWavelets>=1.1.1 in /usr/local/lib/python3.10/dist-packages (from scikit-image>=0.14.2->imgaug>=0.4.0->albumentations==0.4.6) (1.6.0)\n",
            "Requirement already satisfied: packaging>=20.0 in /usr/local/lib/python3.10/dist-packages (from scikit-image>=0.14.2->imgaug>=0.4.0->albumentations==0.4.6) (24.0)\n",
            "Requirement already satisfied: contourpy>=1.0.1 in /usr/local/lib/python3.10/dist-packages (from matplotlib->imgaug>=0.4.0->albumentations==0.4.6) (1.2.1)\n",
            "Requirement already satisfied: cycler>=0.10 in /usr/local/lib/python3.10/dist-packages (from matplotlib->imgaug>=0.4.0->albumentations==0.4.6) (0.12.1)\n",
            "Requirement already satisfied: fonttools>=4.22.0 in /usr/local/lib/python3.10/dist-packages (from matplotlib->imgaug>=0.4.0->albumentations==0.4.6) (4.53.0)\n",
            "Requirement already satisfied: kiwisolver>=1.0.1 in /usr/local/lib/python3.10/dist-packages (from matplotlib->imgaug>=0.4.0->albumentations==0.4.6) (1.4.5)\n",
            "Requirement already satisfied: pyparsing>=2.3.1 in /usr/local/lib/python3.10/dist-packages (from matplotlib->imgaug>=0.4.0->albumentations==0.4.6) (3.1.2)\n",
            "Requirement already satisfied: python-dateutil>=2.7 in /usr/local/lib/python3.10/dist-packages (from matplotlib->imgaug>=0.4.0->albumentations==0.4.6) (2.8.2)\n",
            "Building wheels for collected packages: albumentations\n",
            "  Building wheel for albumentations (setup.py) ... \u001b[?25l\u001b[?25hdone\n",
            "  Created wheel for albumentations: filename=albumentations-0.4.6-py3-none-any.whl size=65153 sha256=d4f945031c37287740b0e46440d004d831aef7d0b5be433327bdd19759106e2a\n",
            "  Stored in directory: /root/.cache/pip/wheels/f9/d7/0c/6ed42fd872f7d1af78b25045f8b16be330f2c70ae72c83e37d\n",
            "Successfully built albumentations\n",
            "Installing collected packages: albumentations\n",
            "  Attempting uninstall: albumentations\n",
            "    Found existing installation: albumentations 1.3.1\n",
            "    Uninstalling albumentations-1.3.1:\n",
            "      Successfully uninstalled albumentations-1.3.1\n",
            "Successfully installed albumentations-0.4.6\n"
          ]
        },
        {
          "output_type": "display_data",
          "data": {
            "application/vnd.colab-display-data+json": {
              "pip_warning": {
                "packages": [
                  "albumentations"
                ]
              },
              "id": "41449b56434f4ba2b78648253dda6910"
            }
          },
          "metadata": {}
        }
      ]
    },
    {
      "cell_type": "code",
      "source": [
        "import albumentations as A\n",
        "from albumentations.pytorch import ToTensorV2\n",
        "\n",
        "PATCH_SIZE = 128\n",
        "\n",
        "transforms = A.Compose([\n",
        "    A.Resize(width = PATCH_SIZE, height = PATCH_SIZE, p=1.0),\n",
        "    A.HorizontalFlip(p=0.5),\n",
        "    A.VerticalFlip(p=0.5),\n",
        "    A.RandomRotate90(p=0.5),\n",
        "    A.Transpose(p=0.5),\n",
        "    A.ShiftScaleRotate(shift_limit=0.01, scale_limit=0.04, rotate_limit=0, p=0.25),\n",
        "\n",
        "    A.Normalize(p=1.0),\n",
        "    ToTensorV2(),\n",
        "\n",
        "])\n"
      ],
      "metadata": {
        "id": "ULxRcO_ziuhw"
      },
      "execution_count": 35,
      "outputs": []
    },
    {
      "cell_type": "code",
      "source": [
        "train_dataset = SegmentationDataset(train_image_paths, train_mask_paths, transform=transforms)\n",
        "val_dataset = SegmentationDataset(validation_image_paths, validation_mask_paths, transform=transforms)"
      ],
      "metadata": {
        "id": "wue0L1n1jJpq"
      },
      "execution_count": 38,
      "outputs": []
    },
    {
      "cell_type": "code",
      "source": [
        "train_dataloader = DataLoader(train_dataset, batch_size=2, shuffle=True, num_workers=2)\n",
        "val_dataloader = DataLoader(val_dataset, batch_size=2, shuffle=False, num_workers=2)"
      ],
      "metadata": {
        "id": "SGpuv4N1jRS6"
      },
      "execution_count": 39,
      "outputs": []
    },
    {
      "cell_type": "code",
      "source": [
        "import torch\n",
        "torch.cuda.empty_cache()"
      ],
      "metadata": {
        "id": "5laGAwwQ5L1n"
      },
      "execution_count": 40,
      "outputs": []
    },
    {
      "cell_type": "markdown",
      "source": [
        "Attention U-NET"
      ],
      "metadata": {
        "id": "EtyqjeA5L8UZ"
      }
    },
    {
      "cell_type": "code",
      "source": [
        "!pip install albumentations==0.4.6\n"
      ],
      "metadata": {
        "colab": {
          "base_uri": "https://localhost:8080/"
        },
        "id": "C9iyfHLbMaGo",
        "outputId": "25d23bb6-4015-46a2-9e42-4475147499aa"
      },
      "execution_count": 21,
      "outputs": [
        {
          "output_type": "stream",
          "name": "stdout",
          "text": [
            "Requirement already satisfied: albumentations==0.4.6 in /usr/local/lib/python3.10/dist-packages (0.4.6)\n",
            "Requirement already satisfied: numpy>=1.11.1 in /usr/local/lib/python3.10/dist-packages (from albumentations==0.4.6) (1.25.2)\n",
            "Requirement already satisfied: scipy in /usr/local/lib/python3.10/dist-packages (from albumentations==0.4.6) (1.11.4)\n",
            "Requirement already satisfied: imgaug>=0.4.0 in /usr/local/lib/python3.10/dist-packages (from albumentations==0.4.6) (0.4.0)\n",
            "Requirement already satisfied: PyYAML in /usr/local/lib/python3.10/dist-packages (from albumentations==0.4.6) (6.0.1)\n",
            "Requirement already satisfied: opencv-python>=4.1.1 in /usr/local/lib/python3.10/dist-packages (from albumentations==0.4.6) (4.8.0.76)\n",
            "Requirement already satisfied: six in /usr/local/lib/python3.10/dist-packages (from imgaug>=0.4.0->albumentations==0.4.6) (1.16.0)\n",
            "Requirement already satisfied: Pillow in /usr/local/lib/python3.10/dist-packages (from imgaug>=0.4.0->albumentations==0.4.6) (9.4.0)\n",
            "Requirement already satisfied: matplotlib in /usr/local/lib/python3.10/dist-packages (from imgaug>=0.4.0->albumentations==0.4.6) (3.7.1)\n",
            "Requirement already satisfied: scikit-image>=0.14.2 in /usr/local/lib/python3.10/dist-packages (from imgaug>=0.4.0->albumentations==0.4.6) (0.19.3)\n",
            "Requirement already satisfied: imageio in /usr/local/lib/python3.10/dist-packages (from imgaug>=0.4.0->albumentations==0.4.6) (2.31.6)\n",
            "Requirement already satisfied: Shapely in /usr/local/lib/python3.10/dist-packages (from imgaug>=0.4.0->albumentations==0.4.6) (2.0.4)\n",
            "Requirement already satisfied: networkx>=2.2 in /usr/local/lib/python3.10/dist-packages (from scikit-image>=0.14.2->imgaug>=0.4.0->albumentations==0.4.6) (3.3)\n",
            "Requirement already satisfied: tifffile>=2019.7.26 in /usr/local/lib/python3.10/dist-packages (from scikit-image>=0.14.2->imgaug>=0.4.0->albumentations==0.4.6) (2024.5.22)\n",
            "Requirement already satisfied: PyWavelets>=1.1.1 in /usr/local/lib/python3.10/dist-packages (from scikit-image>=0.14.2->imgaug>=0.4.0->albumentations==0.4.6) (1.6.0)\n",
            "Requirement already satisfied: packaging>=20.0 in /usr/local/lib/python3.10/dist-packages (from scikit-image>=0.14.2->imgaug>=0.4.0->albumentations==0.4.6) (24.0)\n",
            "Requirement already satisfied: contourpy>=1.0.1 in /usr/local/lib/python3.10/dist-packages (from matplotlib->imgaug>=0.4.0->albumentations==0.4.6) (1.2.1)\n",
            "Requirement already satisfied: cycler>=0.10 in /usr/local/lib/python3.10/dist-packages (from matplotlib->imgaug>=0.4.0->albumentations==0.4.6) (0.12.1)\n",
            "Requirement already satisfied: fonttools>=4.22.0 in /usr/local/lib/python3.10/dist-packages (from matplotlib->imgaug>=0.4.0->albumentations==0.4.6) (4.53.0)\n",
            "Requirement already satisfied: kiwisolver>=1.0.1 in /usr/local/lib/python3.10/dist-packages (from matplotlib->imgaug>=0.4.0->albumentations==0.4.6) (1.4.5)\n",
            "Requirement already satisfied: pyparsing>=2.3.1 in /usr/local/lib/python3.10/dist-packages (from matplotlib->imgaug>=0.4.0->albumentations==0.4.6) (3.1.2)\n",
            "Requirement already satisfied: python-dateutil>=2.7 in /usr/local/lib/python3.10/dist-packages (from matplotlib->imgaug>=0.4.0->albumentations==0.4.6) (2.8.2)\n"
          ]
        }
      ]
    },
    {
      "cell_type": "code",
      "source": [
        "import torch\n",
        "import torch.nn as nn\n",
        "import torch.nn.functional as F\n",
        "from torch.utils.data import Dataset, DataLoader\n",
        "\n",
        "import albumentations as A\n",
        "from albumentations.pytorch import ToTensorV2\n",
        "\n",
        "from sklearn.model_selection import train_test_split"
      ],
      "metadata": {
        "id": "fwDL_6QDMP1s"
      },
      "execution_count": 41,
      "outputs": []
    },
    {
      "cell_type": "code",
      "source": [
        "class ConvBlock(nn.Module):\n",
        "    def __init__(self, ch_in, ch_out):\n",
        "        super().__init__()\n",
        "        self.conv = nn.Sequential(\n",
        "                                  nn.Conv2d(ch_in, ch_out,\n",
        "                                            kernel_size=3, stride=1,\n",
        "                                            padding=1, bias=True),\n",
        "                                  nn.BatchNorm2d(ch_out),\n",
        "                                  nn.ReLU(inplace=True),\n",
        "                                  nn.Conv2d(ch_out, ch_out,\n",
        "                                            kernel_size=3, stride=1,\n",
        "                                            padding=1, bias=True),\n",
        "                                  nn.BatchNorm2d(ch_out),\n",
        "                                  nn.ReLU(inplace=True),\n",
        "        )\n",
        "\n",
        "    def forward(self, x):\n",
        "        x = self.conv(x)\n",
        "        return x"
      ],
      "metadata": {
        "id": "D69PhO3gLbdt"
      },
      "execution_count": 42,
      "outputs": []
    },
    {
      "cell_type": "code",
      "source": [
        "class UpConvBlock(nn.Module):\n",
        "    def __init__(self, ch_in, ch_out):\n",
        "        super().__init__()\n",
        "        self.up = nn.Sequential(\n",
        "                                nn.Upsample(scale_factor=2),\n",
        "                                nn.Conv2d(ch_in, ch_out,\n",
        "                                         kernel_size=3,stride=1,\n",
        "                                         padding=1, bias=True),\n",
        "                                nn.BatchNorm2d(ch_out),\n",
        "                                nn.ReLU(inplace=True),\n",
        "        )\n",
        "\n",
        "    def forward(self, x):\n",
        "        x = x = self.up(x)\n",
        "        return x"
      ],
      "metadata": {
        "id": "ro4bVAe7M0K9"
      },
      "execution_count": 43,
      "outputs": []
    },
    {
      "cell_type": "code",
      "source": [
        "class AttentionBlock(nn.Module):\n",
        "    def __init__(self, f_g, f_l, f_int):\n",
        "        super().__init__()\n",
        "\n",
        "        self.w_g = nn.Sequential(\n",
        "                                nn.Conv2d(f_g, f_int,\n",
        "                                         kernel_size=1, stride=1,\n",
        "                                         padding=0, bias=True),\n",
        "                                nn.BatchNorm2d(f_int)\n",
        "        )\n",
        "\n",
        "        self.w_x = nn.Sequential(\n",
        "                                nn.Conv2d(f_l, f_int,\n",
        "                                         kernel_size=1, stride=1,\n",
        "                                         padding=0, bias=True),\n",
        "                                nn.BatchNorm2d(f_int)\n",
        "        )\n",
        "\n",
        "        self.psi = nn.Sequential(\n",
        "                                nn.Conv2d(f_int, 1,\n",
        "                                         kernel_size=1, stride=1,\n",
        "                                         padding=0,  bias=True),\n",
        "                                nn.BatchNorm2d(1),\n",
        "                                nn.Sigmoid(),\n",
        "        )\n",
        "\n",
        "        self.relu = nn.ReLU(inplace=True)\n",
        "\n",
        "    def forward(self, g, x):\n",
        "        g1 = self.w_g(g)\n",
        "        x1 = self.w_x(x)\n",
        "        psi = self.relu(g1+x1)\n",
        "        psi = self.psi(psi)\n",
        "\n",
        "        return psi*x"
      ],
      "metadata": {
        "id": "wfa67QwoM0hV"
      },
      "execution_count": 44,
      "outputs": []
    },
    {
      "cell_type": "markdown",
      "source": [
        "Model"
      ],
      "metadata": {
        "id": "YuuucPstM6xF"
      }
    },
    {
      "cell_type": "code",
      "source": [
        "class AttentionUNet(nn.Module):\n",
        "    def __init__(self, n_classes=1, in_channel=3, out_channel=1):\n",
        "        super().__init__()\n",
        "\n",
        "        self.maxpool = nn.MaxPool2d(kernel_size=2, stride=2)\n",
        "\n",
        "        self.conv1 = ConvBlock(ch_in=in_channel, ch_out=64)\n",
        "        self.conv2 = ConvBlock(ch_in=64, ch_out=128)\n",
        "        self.conv3 = ConvBlock(ch_in=128, ch_out=256)\n",
        "        self.conv4 = ConvBlock(ch_in=256, ch_out=512)\n",
        "        self.conv5 = ConvBlock(ch_in=512, ch_out=1024)\n",
        "\n",
        "        self.up5 = UpConvBlock(ch_in=1024, ch_out=512)\n",
        "        self.att5 = AttentionBlock(f_g=512, f_l=512, f_int=256)\n",
        "        self.upconv5 = ConvBlock(ch_in=1024, ch_out=512)\n",
        "\n",
        "        self.up4 = UpConvBlock(ch_in=512, ch_out=256)\n",
        "        self.att4 = AttentionBlock(f_g=256, f_l=256, f_int=128)\n",
        "        self.upconv4 = ConvBlock(ch_in=512, ch_out=256)\n",
        "\n",
        "        self.up3 = UpConvBlock(ch_in=256, ch_out=128)\n",
        "        self.att3 = AttentionBlock(f_g=128, f_l=128, f_int=64)\n",
        "        self.upconv3 = ConvBlock(ch_in=256, ch_out=128)\n",
        "\n",
        "        self.up2 = UpConvBlock(ch_in=128, ch_out=64)\n",
        "        self.att2 = AttentionBlock(f_g=64, f_l=64, f_int=32)\n",
        "        self.upconv2 = ConvBlock(ch_in=128, ch_out=64)\n",
        "\n",
        "        self.conv_1x1 = nn.Conv2d(64, out_channel,\n",
        "                                  kernel_size=1, stride=1, padding=0)\n",
        "\n",
        "    def forward(self, x):\n",
        "        # encoder\n",
        "        x1 = self.conv1(x)\n",
        "\n",
        "        x2 = self.maxpool(x1)\n",
        "        x2 = self.conv2(x2)\n",
        "\n",
        "        x3 = self.maxpool(x2)\n",
        "        x3 = self.conv3(x3)\n",
        "\n",
        "        x4 = self.maxpool(x3)\n",
        "        x4 = self.conv4(x4)\n",
        "\n",
        "        x5 = self.maxpool(x4)\n",
        "        x5 = self.conv5(x5)\n",
        "\n",
        "        # decoder + concat\n",
        "        d5 = self.up5(x5)\n",
        "        x4 = self.att5(g=d5, x=x4)\n",
        "        d5 = torch.concat((x4, d5), dim=1)\n",
        "        d5 = self.upconv5(d5)\n",
        "\n",
        "        d4 = self.up4(d5)\n",
        "        x3 = self.att4(g=d4, x=x3)\n",
        "        d4 = torch.concat((x3, d4), dim=1)\n",
        "        d4 = self.upconv4(d4)\n",
        "\n",
        "        d3 = self.up3(d4)\n",
        "        x2 = self.att3(g=d3, x=x2)\n",
        "        d3 = torch.concat((x2, d3), dim=1)\n",
        "        d3 = self.upconv3(d3)\n",
        "\n",
        "        d2 = self.up2(d3)\n",
        "        x1 = self.att2(g=d2, x=x1)\n",
        "        d2 = torch.concat((x1, d2), dim=1)\n",
        "        d2 = self.upconv2(d2)\n",
        "\n",
        "        d1 = self.conv_1x1(d2)\n",
        "\n",
        "        return d1"
      ],
      "metadata": {
        "id": "mPxFxYqLM4MP"
      },
      "execution_count": 45,
      "outputs": []
    },
    {
      "cell_type": "code",
      "source": [
        "device = torch.device(\"cuda:0\" if torch.cuda.is_available() else \"cpu\")\n"
      ],
      "metadata": {
        "id": "7cGHbvHRNKLV"
      },
      "execution_count": 46,
      "outputs": []
    },
    {
      "cell_type": "code",
      "source": [
        "attention_unet = AttentionUNet(n_classes=1).to(device)\n"
      ],
      "metadata": {
        "id": "lDJPLwDFM-O-"
      },
      "execution_count": 47,
      "outputs": []
    },
    {
      "cell_type": "code",
      "source": [
        "output = torch.randn(1,3,128,128).to(device)\n",
        "output.shape"
      ],
      "metadata": {
        "colab": {
          "base_uri": "https://localhost:8080/"
        },
        "id": "xa8aVbjENEh_",
        "outputId": "0b69b1e5-f570-43e9-870f-56e2dd3837c8"
      },
      "execution_count": 48,
      "outputs": [
        {
          "output_type": "execute_result",
          "data": {
            "text/plain": [
              "torch.Size([1, 3, 128, 128])"
            ]
          },
          "metadata": {},
          "execution_count": 48
        }
      ]
    },
    {
      "cell_type": "markdown",
      "source": [
        "Segmentation Metric (DICE and IoU)"
      ],
      "metadata": {
        "id": "YHvLlFFMNWFG"
      }
    },
    {
      "cell_type": "code",
      "source": [
        "def dice_coef_metric(predictions, targets, smooth=1e-6):\n",
        "    predictions = predictions.contiguous().view(-1)\n",
        "    targets = targets.contiguous().view(-1)\n",
        "\n",
        "    intersection = (predictions * targets).sum()\n",
        "    union = predictions.sum() + targets.sum()\n",
        "\n",
        "    dice = (2. * intersection + smooth) / (union + smooth)\n",
        "    return dice\n"
      ],
      "metadata": {
        "id": "6Xqre0oXsJcs"
      },
      "execution_count": 76,
      "outputs": []
    },
    {
      "cell_type": "code",
      "source": [
        "def dice_coef_metric(predictions, targets, smooth=1e-6):\n",
        "    \"\"\"Calculate the Dice coefficient for NumPy arrays.\"\"\"\n",
        "    # Flatten the arrays\n",
        "    predictions = predictions.flatten()\n",
        "    targets = targets.flatten()\n",
        "\n",
        "    intersection = (predictions * targets).sum()\n",
        "    union = predictions.sum() + targets.sum()\n",
        "\n",
        "    dice = (2. * intersection + smooth) / (union + smooth)\n",
        "    return dice\n"
      ],
      "metadata": {
        "id": "SLserVPP95cW"
      },
      "execution_count": 81,
      "outputs": []
    },
    {
      "cell_type": "code",
      "source": [
        "def iou_score(predictions, targets, smooth=1e-6):\n",
        "    # Flatten label and prediction tensors\n",
        "    predictions = predictions.contiguous().view(-1)\n",
        "    targets = targets.contiguous().view(-1)\n",
        "\n",
        "    intersection = (predictions * targets).sum()\n",
        "    union = predictions.sum() + targets.sum() - intersection\n",
        "\n",
        "    iou = (intersection + smooth) / (union + smooth)\n",
        "    return iou\n"
      ],
      "metadata": {
        "id": "zI10vadkzZG3"
      },
      "execution_count": 77,
      "outputs": []
    },
    {
      "cell_type": "markdown",
      "source": [
        "DICE LOSS"
      ],
      "metadata": {
        "id": "ZQrZ3XMRNz-s"
      }
    },
    {
      "cell_type": "code",
      "source": [
        "class DiceLoss(nn.Module):\n",
        "    def __init__(self, weight=None, size_average=True, sigmoid=True):\n",
        "        super(DiceLoss, self).__init__()\n",
        "        self.sigmoid = sigmoid\n",
        "\n",
        "    def forward(self, inputs, targets, smooth=1):\n",
        "        # Apply sigmoid if inputs are logits\n",
        "        if self.sigmoid:\n",
        "            inputs = torch.sigmoid(inputs)\n",
        "\n",
        "        # Flatten label and prediction tensors\n",
        "        inputs = inputs.view(-1)\n",
        "        targets = targets.view(-1)\n",
        "\n",
        "        intersection = (inputs * targets).sum()\n",
        "        dice_score = (2. * intersection + smooth) / (inputs.sum() + targets.sum() + smooth)\n",
        "\n",
        "        return 1 - dice_score\n"
      ],
      "metadata": {
        "id": "jVfPbP6kz2ML"
      },
      "execution_count": 65,
      "outputs": []
    },
    {
      "cell_type": "code",
      "source": [
        "'''\n",
        "\n",
        "class DiceLoss(nn.Module):\n",
        "    def __init__(self, weight=None, size_average=True):\n",
        "        super(DiceLoss, self).__init__()\n",
        "\n",
        "    def forward(self, inputs, targets, smooth=1):\n",
        "\n",
        "        #comment out if your model contains a sigmoid or equivalent activation layer\n",
        "        # inputs = F.sigmoid(inputs)\n",
        "\n",
        "        #flatten label and prediction tensors\n",
        "        inputs = inputs.view(-1)\n",
        "        targets = targets.view(-1)\n",
        "\n",
        "        intersection = (inputs * targets).sum()\n",
        "        dice = (2.*intersection + smooth)/(inputs.sum() + targets.sum() + smooth)\n",
        "\n",
        "        return 1 - dice\n",
        "'''"
      ],
      "metadata": {
        "id": "DyA4ySE-NzkV"
      },
      "execution_count": 59,
      "outputs": []
    },
    {
      "cell_type": "code",
      "source": [
        "# sanity check\n",
        "DiceLoss()(torch.tensor([0.7, 1., 1.]),\n",
        "              torch.tensor([1.,1.,1.]))"
      ],
      "metadata": {
        "colab": {
          "base_uri": "https://localhost:8080/"
        },
        "id": "Oe6f0qYsNaW6",
        "outputId": "efcf07a8-ae41-4974-fa56-be66e13ca1cd"
      },
      "execution_count": 66,
      "outputs": [
        {
          "output_type": "execute_result",
          "data": {
            "text/plain": [
              "tensor(0.1419)"
            ]
          },
          "metadata": {},
          "execution_count": 66
        }
      ]
    },
    {
      "cell_type": "markdown",
      "source": [
        "Training"
      ],
      "metadata": {
        "id": "seUQaxYgOBid"
      }
    },
    {
      "cell_type": "code",
      "source": [
        "def train_model(model_name, model, train_loader, val_loader, criterion, optimizer, num_epochs=30):\n",
        "    for epoch in range(num_epochs):\n",
        "        model.train()\n",
        "        train_dice, train_iou = [], []\n",
        "\n",
        "        for data, target in train_loader:\n",
        "            data, target = data.to(device), target.to(device)\n",
        "            optimizer.zero_grad()\n",
        "            output = model(data)\n",
        "            loss = criterion(output, target)\n",
        "            loss.backward()\n",
        "            optimizer.step()\n",
        "\n",
        "            # Calculate metrics\n",
        "            output = torch.sigmoid(output)  # Sigmoid to convert outputs to probabilities\n",
        "            output = (output > 0.5).float()  # Threshold probabilities to get binary mask\n",
        "            dice = dice_coef_metric(output, target)\n",
        "            iou = iou_score(output, target)\n",
        "\n",
        "            train_dice.append(dice.item())\n",
        "            train_iou.append(iou.item())\n",
        "\n",
        "        # Validation step\n",
        "        model.eval()\n",
        "        with torch.no_grad():\n",
        "            val_dice, val_iou = [], []\n",
        "            for data, target in val_loader:\n",
        "                data, target = data.to(device), target.to(device)\n",
        "                output = model(data)\n",
        "                output = torch.sigmoid(output)  # Sigmoid to convert outputs to probabilities\n",
        "                output = (output > 0.5).float()  # Threshold probabilities to get binary mask\n",
        "                dice = dice_coef_metric(output, target)\n",
        "                iou = iou_score(output, target)\n",
        "\n",
        "                val_dice.append(dice.item())\n",
        "                val_iou.append(iou.item())\n",
        "\n",
        "        print(f\"Epoch {epoch+1}, Train Dice: {np.mean(train_dice)}, Train IoU: {np.mean(train_iou)}, Val Dice: {np.mean(val_dice)}, Val IoU: {np.mean(val_iou)}\")"
      ],
      "metadata": {
        "id": "36vgTS7a0eiY"
      },
      "execution_count": 82,
      "outputs": []
    },
    {
      "cell_type": "code",
      "source": [
        "\n",
        "def train_model(model_name, model, train_loader, val_loader, train_loss, optimizer, lr_scheduler, num_epochs):\n",
        "    print(f\"[INFO] Model is initializing... {model_name}\")\n",
        "\n",
        "    loss_history = []\n",
        "    train_history = []\n",
        "    val_history = []\n",
        "\n",
        "    for epoch in range(num_epochs):\n",
        "        model.train()\n",
        "\n",
        "        losses = []\n",
        "        train_iou = []\n",
        "\n",
        "        for i_step, (data, target) in enumerate(tqdm(train_loader)):\n",
        "            data = data.to(device)\n",
        "            target = target.to(device)\n",
        "\n",
        "            outputs = model(data)\n",
        "\n",
        "            out_cut = np.copy(outputs.data.cpu().numpy())\n",
        "            out_cut[np.nonzero(out_cut < 0.5)] = 0.0\n",
        "            out_cut[np.nonzero(out_cut >= 0.5)] = 1.0\n",
        "\n",
        "            train_dice = dice_coef_metric(out_cut, target.data.cpu().numpy())\n",
        "\n",
        "            loss = train_loss(outputs, target)\n",
        "\n",
        "            losses.append(loss.item())\n",
        "            train_iou.append(train_dice)\n",
        "\n",
        "            optimizer.zero_grad()\n",
        "            loss.backward()\n",
        "            optimizer.step()\n",
        "\n",
        "        val_mean_iou = compute_iou(model, val_loader)\n",
        "\n",
        "        loss_history.append(np.array(losses).mean())\n",
        "        train_history.append(np.array(train_iou).mean())\n",
        "        val_history.append(val_mean_iou)\n",
        "\n",
        "        print(\"Epoch [%d]\" % (epoch))\n",
        "        print(\"Mean loss on train:\", np.array(losses).mean())\n",
        "        print(\"Mean IoU on validation:\", val_mean_iou)  # Correct label for the output\n",
        "\n",
        "    return loss_history, train_history, val_history\n",
        "\n"
      ],
      "metadata": {
        "id": "tL2cMKyON8uf"
      },
      "execution_count": 87,
      "outputs": []
    },
    {
      "cell_type": "code",
      "source": [
        "def compute_iou(model, dataloader):\n",
        "    \"\"\"Compute the mean IoU using the provided model and dataloader.\"\"\"\n",
        "    total_iou = 0.0\n",
        "    count = 0\n",
        "\n",
        "    model.eval()  # Set the model to evaluation mode\n",
        "    with torch.no_grad():\n",
        "        for data, target in dataloader:\n",
        "            data = data.to(device)\n",
        "            target = target.to(device)\n",
        "\n",
        "            outputs = model(data)\n",
        "            outputs = torch.sigmoid(outputs)  # Convert to probabilities\n",
        "            preds = (outputs > 0.5).float()  # Binarize predictions\n",
        "\n",
        "            iou = iou_score(preds, target)\n",
        "            total_iou += iou.item()\n",
        "            count += 1\n",
        "\n",
        "    average_iou = total_iou / count if count != 0 else 0\n",
        "    return average_iou\n"
      ],
      "metadata": {
        "id": "KdVeFcS0OC4q"
      },
      "execution_count": 84,
      "outputs": []
    },
    {
      "cell_type": "code",
      "source": [
        "opt = torch.optim.Adamax(attention_unet.parameters(), lr=1e-3)\n"
      ],
      "metadata": {
        "id": "y2a1X-lDOFfa"
      },
      "execution_count": 79,
      "outputs": []
    },
    {
      "cell_type": "code",
      "source": [
        "%%time\n",
        "num_ep = 30\n",
        "# after 30 does not improve much\n",
        "\n",
        "aun_lh, aun_th, aun_vh = train_model(\"Attention UNet\", attention_unet, train_dataloader, val_dataloader, DiceLoss(), opt, False, num_ep)\n",
        "# Assuming you've defined device somewhere, e.g., device = torch.device(\"cuda\" if torch.cuda.is_available() else \"cpu\")\n",
        "\n",
        "# train_model(\"Attention UNet\", attention_unet, train_dataloader, val_dataloader, DiceLoss(), opt, num_ep)\n"
      ],
      "metadata": {
        "id": "RnqZJ0UgOJwO",
        "colab": {
          "base_uri": "https://localhost:8080/",
          "height": 626,
          "referenced_widgets": [
            "530b075612af4e6db221ce0c2b4e3879",
            "3926338e9ce9437896dc38168922c925",
            "6881a1b24a2b4841a0fead6df7c799d3",
            "dfffe4c6c1a74ed78da8c86a004b7ec0",
            "58c9f55bd2e14fadb820e990474af447",
            "a461394547ec48f1be153e1b53710352",
            "2c71d19c537640bc8b4a61038ddd9d03",
            "7a5a06875ed04002aad4bbf7c1ff7834",
            "25b3b54fc5264e9dbcd6cd467ed10be3",
            "c665fd48a4e1476d9c8522bfcf87c402",
            "de16891503c647fbb54423e13e34da4d",
            "e3b6d862ebc742cfaa68ebb412b9fd22",
            "a45ea9b2de234969ac6fe1e727e32843",
            "c1573ba080324f6aab661ff58eae01f5",
            "e986203b762140898f5127ea2cb6b358",
            "0145034c1a774da48e38dc0832025509",
            "42bb724d0c7245b99382f54ee4d16d68",
            "bb6285d4dc794dd1b9e62425d8b81c37",
            "2c5bafe4181f4608a4bcebe57ba6bc26",
            "44189670e3a04ad8af8fa14847808af5",
            "61f2f529195142a1aa779545dc71244d",
            "5fb400ab8bf34de8ba90a199f61f3e06",
            "25836bee03ed40c5af1c910cf5081412",
            "54dfd2fdbe384817b4f3863ff6e74e9c",
            "1195da5232da4d949b9c6acdc83133bb",
            "ceb0ad0fdbf64056be5824cb5a898dae",
            "f3465aa79ba3451d8ee6028ad316e041",
            "a011be481ba24e7f8343ddb33a6ab3b6",
            "23fddfcecd7841ab93fe3d68ddc4af6c",
            "5d1e4cbb9e6b4fd6abda503e49a7e08d",
            "ce4f31b94677476e8981871f008c1428",
            "e48deb8581a74f37ad5e8d6f35d45fb1",
            "dadfdeefb7004228b3e490388e2443e5"
          ]
        },
        "outputId": "3c449d88-1f5f-4f24-ede2-072ef5239f38"
      },
      "execution_count": 88,
      "outputs": [
        {
          "output_type": "stream",
          "name": "stdout",
          "text": [
            "[INFO] Model is initializing... Attention UNet\n"
          ]
        },
        {
          "output_type": "display_data",
          "data": {
            "text/plain": [
              "  0%|          | 0/268 [00:00<?, ?it/s]"
            ],
            "application/vnd.jupyter.widget-view+json": {
              "version_major": 2,
              "version_minor": 0,
              "model_id": "530b075612af4e6db221ce0c2b4e3879"
            }
          },
          "metadata": {}
        },
        {
          "output_type": "stream",
          "name": "stdout",
          "text": [
            "Epoch [0]\n",
            "Mean loss on train: -0.9143838953616014\n",
            "Mean IoU on validation: 31.33939555153918\n"
          ]
        },
        {
          "output_type": "display_data",
          "data": {
            "text/plain": [
              "  0%|          | 0/268 [00:00<?, ?it/s]"
            ],
            "application/vnd.jupyter.widget-view+json": {
              "version_major": 2,
              "version_minor": 0,
              "model_id": "e3b6d862ebc742cfaa68ebb412b9fd22"
            }
          },
          "metadata": {}
        },
        {
          "output_type": "stream",
          "name": "stdout",
          "text": [
            "Epoch [1]\n",
            "Mean loss on train: -0.9164270642978042\n",
            "Mean IoU on validation: 31.339543129081157\n"
          ]
        },
        {
          "output_type": "display_data",
          "data": {
            "text/plain": [
              "  0%|          | 0/268 [00:00<?, ?it/s]"
            ],
            "application/vnd.jupyter.widget-view+json": {
              "version_major": 2,
              "version_minor": 0,
              "model_id": "25836bee03ed40c5af1c910cf5081412"
            }
          },
          "metadata": {}
        },
        {
          "output_type": "error",
          "ename": "KeyboardInterrupt",
          "evalue": "",
          "traceback": [
            "\u001b[0;31m---------------------------------------------------------------------------\u001b[0m",
            "\u001b[0;31mKeyboardInterrupt\u001b[0m                         Traceback (most recent call last)",
            "\u001b[0;32m<timed exec>\u001b[0m in \u001b[0;36m<module>\u001b[0;34m\u001b[0m\n",
            "\u001b[0;32m<ipython-input-87-35e2ce0d4a01>\u001b[0m in \u001b[0;36mtrain_model\u001b[0;34m(model_name, model, train_loader, val_loader, train_loss, optimizer, lr_scheduler, num_epochs)\u001b[0m\n\u001b[1;32m     30\u001b[0m \u001b[0;34m\u001b[0m\u001b[0m\n\u001b[1;32m     31\u001b[0m             \u001b[0moptimizer\u001b[0m\u001b[0;34m.\u001b[0m\u001b[0mzero_grad\u001b[0m\u001b[0;34m(\u001b[0m\u001b[0;34m)\u001b[0m\u001b[0;34m\u001b[0m\u001b[0;34m\u001b[0m\u001b[0m\n\u001b[0;32m---> 32\u001b[0;31m             \u001b[0mloss\u001b[0m\u001b[0;34m.\u001b[0m\u001b[0mbackward\u001b[0m\u001b[0;34m(\u001b[0m\u001b[0;34m)\u001b[0m\u001b[0;34m\u001b[0m\u001b[0;34m\u001b[0m\u001b[0m\n\u001b[0m\u001b[1;32m     33\u001b[0m             \u001b[0moptimizer\u001b[0m\u001b[0;34m.\u001b[0m\u001b[0mstep\u001b[0m\u001b[0;34m(\u001b[0m\u001b[0;34m)\u001b[0m\u001b[0;34m\u001b[0m\u001b[0;34m\u001b[0m\u001b[0m\n\u001b[1;32m     34\u001b[0m \u001b[0;34m\u001b[0m\u001b[0m\n",
            "\u001b[0;32m/usr/local/lib/python3.10/dist-packages/torch/_tensor.py\u001b[0m in \u001b[0;36mbackward\u001b[0;34m(self, gradient, retain_graph, create_graph, inputs)\u001b[0m\n\u001b[1;32m    523\u001b[0m                 \u001b[0minputs\u001b[0m\u001b[0;34m=\u001b[0m\u001b[0minputs\u001b[0m\u001b[0;34m,\u001b[0m\u001b[0;34m\u001b[0m\u001b[0;34m\u001b[0m\u001b[0m\n\u001b[1;32m    524\u001b[0m             )\n\u001b[0;32m--> 525\u001b[0;31m         torch.autograd.backward(\n\u001b[0m\u001b[1;32m    526\u001b[0m             \u001b[0mself\u001b[0m\u001b[0;34m,\u001b[0m \u001b[0mgradient\u001b[0m\u001b[0;34m,\u001b[0m \u001b[0mretain_graph\u001b[0m\u001b[0;34m,\u001b[0m \u001b[0mcreate_graph\u001b[0m\u001b[0;34m,\u001b[0m \u001b[0minputs\u001b[0m\u001b[0;34m=\u001b[0m\u001b[0minputs\u001b[0m\u001b[0;34m\u001b[0m\u001b[0;34m\u001b[0m\u001b[0m\n\u001b[1;32m    527\u001b[0m         )\n",
            "\u001b[0;32m/usr/local/lib/python3.10/dist-packages/torch/autograd/__init__.py\u001b[0m in \u001b[0;36mbackward\u001b[0;34m(tensors, grad_tensors, retain_graph, create_graph, grad_variables, inputs)\u001b[0m\n\u001b[1;32m    265\u001b[0m     \u001b[0;31m# some Python versions print out the first line of a multi-line function\u001b[0m\u001b[0;34m\u001b[0m\u001b[0;34m\u001b[0m\u001b[0m\n\u001b[1;32m    266\u001b[0m     \u001b[0;31m# calls in the traceback and some print out the last line\u001b[0m\u001b[0;34m\u001b[0m\u001b[0;34m\u001b[0m\u001b[0m\n\u001b[0;32m--> 267\u001b[0;31m     _engine_run_backward(\n\u001b[0m\u001b[1;32m    268\u001b[0m         \u001b[0mtensors\u001b[0m\u001b[0;34m,\u001b[0m\u001b[0;34m\u001b[0m\u001b[0;34m\u001b[0m\u001b[0m\n\u001b[1;32m    269\u001b[0m         \u001b[0mgrad_tensors_\u001b[0m\u001b[0;34m,\u001b[0m\u001b[0;34m\u001b[0m\u001b[0;34m\u001b[0m\u001b[0m\n",
            "\u001b[0;32m/usr/local/lib/python3.10/dist-packages/torch/autograd/graph.py\u001b[0m in \u001b[0;36m_engine_run_backward\u001b[0;34m(t_outputs, *args, **kwargs)\u001b[0m\n\u001b[1;32m    742\u001b[0m         \u001b[0munregister_hooks\u001b[0m \u001b[0;34m=\u001b[0m \u001b[0m_register_logging_hooks_on_whole_graph\u001b[0m\u001b[0;34m(\u001b[0m\u001b[0mt_outputs\u001b[0m\u001b[0;34m)\u001b[0m\u001b[0;34m\u001b[0m\u001b[0;34m\u001b[0m\u001b[0m\n\u001b[1;32m    743\u001b[0m     \u001b[0;32mtry\u001b[0m\u001b[0;34m:\u001b[0m\u001b[0;34m\u001b[0m\u001b[0;34m\u001b[0m\u001b[0m\n\u001b[0;32m--> 744\u001b[0;31m         return Variable._execution_engine.run_backward(  # Calls into the C++ engine to run the backward pass\n\u001b[0m\u001b[1;32m    745\u001b[0m             \u001b[0mt_outputs\u001b[0m\u001b[0;34m,\u001b[0m \u001b[0;34m*\u001b[0m\u001b[0margs\u001b[0m\u001b[0;34m,\u001b[0m \u001b[0;34m**\u001b[0m\u001b[0mkwargs\u001b[0m\u001b[0;34m\u001b[0m\u001b[0;34m\u001b[0m\u001b[0m\n\u001b[1;32m    746\u001b[0m         )  # Calls into the C++ engine to run the backward pass\n",
            "\u001b[0;31mKeyboardInterrupt\u001b[0m: "
          ]
        }
      ]
    }
  ]
}